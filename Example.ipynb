{
 "cells": [
  {
   "cell_type": "code",
   "execution_count": 1,
   "id": "3bf3ccd4-bd5a-4b9b-896c-fb97393263c9",
   "metadata": {
    "tags": []
   },
   "outputs": [],
   "source": [
    "import torch\n",
    "import numpy as np\n",
    "import sympy as sp\n",
    "import os, sys\n",
    "import odeformer\n",
    "import requests\n",
    "from IPython.display import display"
   ]
  },
  {
   "cell_type": "code",
   "execution_count": 2,
   "id": "52a6b685-a1ed-4cb5-975d-f1bd316ec778",
   "metadata": {
    "tags": []
   },
   "outputs": [
    {
     "name": "stdout",
     "output_type": "stream",
     "text": [
      "cuda:0\n",
      "Model successfully loaded!\n"
     ]
    }
   ],
   "source": [
    "model_path = \"model.pt\" \n",
    "try:\n",
    "    if not os.path.isfile(model_path): \n",
    "        url = \"https://dl.fbaipublicfiles.com/odeformer/model1.pt\"\n",
    "        r = requests.get(url, allow_redirects=True)\n",
    "        open(model_path, 'wb').write(r.content)\n",
    "    if not torch.cuda.is_available():\n",
    "        model = torch.load(model_path, map_location=torch.device('cpu'))\n",
    "    else:\n",
    "        model = torch.load(model_path)\n",
    "        model = model.cuda()\n",
    "    print(model.device)\n",
    "    print(\"Model successfully loaded!\")\n",
    "\n",
    "except Exception as e:\n",
    "    print(\"ERROR: model not loaded! path was: {}\".format(model_path))\n",
    "    print(e)    "
   ]
  },
  {
   "cell_type": "code",
   "execution_count": 3,
   "id": "cb5ebd8c-235e-4051-87a4-acbafadf937c",
   "metadata": {
    "tags": []
   },
   "outputs": [],
   "source": [
    "est = odeformer.model.SymbolicTransformerRegressor(\n",
    "                        model=model,\n",
    "                        max_input_points=200,\n",
    "                        n_trees_to_refine=100,\n",
    "                        rescale=True\n",
    "                        )"
   ]
  },
  {
   "cell_type": "code",
   "execution_count": 4,
   "id": "f539c7ed-29e3-453a-b226-09dfab999fec",
   "metadata": {
    "tags": []
   },
   "outputs": [],
   "source": [
    "##Example of data\n",
    "\n",
    "x = np.random.randn(100, 2)\n",
    "y = np.cos(2*np.pi*x[:,0])+x[:,1]**2\n"
   ]
  },
  {
   "cell_type": "code",
   "execution_count": 5,
   "id": "c699a062-41e6-4747-87ce-1e75a2496b74",
   "metadata": {
    "tags": []
   },
   "outputs": [
    {
     "name": "stderr",
     "output_type": "stream",
     "text": [
      "/home/dascoli/miniconda3/lib/python3.10/site-packages/torch/_functorch/deprecated.py:62: UserWarning: We've integrated functorch into PyTorch. As the final step of the integration, functorch.grad is deprecated as of PyTorch 2.0 and will be deleted in a future version of PyTorch >= 2.3. Please use torch.func.grad instead; see the PyTorch 2.0 release notes and/or the torch.func migration guide for more details https://pytorch.org/docs/master/func.migrating.html\n",
      "  warn_deprecated('grad')\n"
     ]
    },
    {
     "data": {
      "text/latex": [
       "$\\displaystyle 0.89887978783496991 \\left(x_{1} - 0.010476798276570112\\right)^{2} - 0.9760000000000001 \\sin{\\left(5.591313448981332 x_{0} + 4.3736305073537418 \\right)} + 0.05578000000000001$"
      ],
      "text/plain": [
       "0.89887978783496991*(x_1 - 0.010476798276570112)**2 - 0.9760000000000001*sin(5.591313448981332*x_0 + 4.3736305073537418) + 0.05578000000000001"
      ]
     },
     "metadata": {},
     "output_type": "display_data"
    }
   ],
   "source": [
    "est.fit(x,y)\n",
    "replace_ops = {\"add\": \"+\", \"mul\": \"*\", \"sub\": \"-\", \"pow\": \"**\", \"inv\": \"1/\"}\n",
    "model_str = est.retrieve_tree(with_infos=True)[\"relabed_predicted_tree\"].infix()\n",
    "for op,replace_op in replace_ops.items():\n",
    "    model_str = model_str.replace(op,replace_op)\n",
    "display(sp.parse_expr(model_str))"
   ]
  },
  {
   "cell_type": "code",
   "execution_count": 12,
   "id": "a8b8e43c-ac43-430d-9af4-d4de4577ddb5",
   "metadata": {
    "tags": []
   },
   "outputs": [],
   "source": [
    "from odeformer.envs.generators import RandomFunctions\n",
    "\n",
    "generator = RandomFunctions()"
   ]
  },
  {
   "cell_type": "code",
   "execution_count": null,
   "id": "ed19b027-9a72-4419-a3cf-098c55ca77ec",
   "metadata": {},
   "outputs": [],
   "source": []
  }
 ],
 "metadata": {
  "kernelspec": {
   "display_name": "Python 3 (ipykernel)",
   "language": "python",
   "name": "python3"
  },
  "language_info": {
   "codemirror_mode": {
    "name": "ipython",
    "version": 3
   },
   "file_extension": ".py",
   "mimetype": "text/x-python",
   "name": "python",
   "nbconvert_exporter": "python",
   "pygments_lexer": "ipython3",
   "version": "3.10.9"
  }
 },
 "nbformat": 4,
 "nbformat_minor": 5
}
