{
 "cells": [
  {
   "cell_type": "code",
   "execution_count": 1,
   "metadata": {},
   "outputs": [],
   "source": [
    "%load_ext autoreload\n",
    "%autoreload 2\n",
    "\n",
    "#%%timeit\n",
    "import glob\n",
    "import os\n",
    "import matplotlib\n",
    "import matplotlib.pyplot as plt\n",
    "from mpl_toolkits.mplot3d import Axes3D\n",
    "import torch\n",
    "import numpy as np\n",
    "import sys\n",
    "import copy\n",
    "import time \n",
    "import argparse\n",
    "\n",
    "from pathlib import Path\n",
    "#from symbolicregression.envs.generators import RandomRecurrence\n",
    "#from symbolicregression.envs.encoders import Equation, IntegerSeries, RealSeries\n",
    "from sympy import *\n",
    "import pickle\n",
    "from collections import defaultdict, OrderedDict\n",
    "import math\n",
    "import pandas as pd\n",
    "\n",
    "import symbolicregression\n",
    "from symbolicregression.envs import ENVS, build_env\n",
    "from symbolicregression.model import build_modules\n",
    "from symbolicregression.envs.generators import RandomFunctions\n",
    "from symbolicregression.envs.encoders import  Equation, FloatSequences\n",
    "from symbolicregression.envs.environment import FunctionEnvironment\n",
    "#from notebook_utils import pad_input, process_inputs\n",
    "from IPython.display import display\n",
    "from symbolicregression.model.embedders import *\n",
    "from symbolicregression.trainer import Trainer\n",
    "from evaluate import Evaluator\n",
    "from symbolicregression.utils import bool_flag, initialize_exp\n",
    "\n",
    "import warnings\n",
    "warnings.filterwarnings('ignore')\n",
    "\n",
    "#python train.py --eval_size 10 --n_inner_epochs 10 --collate_queue_size 10\n"
   ]
  },
  {
   "cell_type": "markdown",
   "metadata": {},
   "source": [
    "# Playing with generator"
   ]
  },
  {
   "cell_type": "markdown",
   "metadata": {
    "tags": []
   },
   "source": [
    "## Generator statistics"
   ]
  },
  {
   "cell_type": "code",
   "execution_count": 3,
   "metadata": {},
   "outputs": [
    {
     "name": "stdout",
     "output_type": "stream",
     "text": [
      "System :\n"
     ]
    },
    {
     "data": {
      "text/latex": [
       "$\\displaystyle 0.508 t - 0.102 \\sin{\\left(48.0 x_{0} x_{1} - 22.5 \\right)} - 0.751$"
      ],
      "text/plain": [
       "0.508*t - 0.102*sin(48.0*x_0*x_1 - 22.5) - 0.751"
      ]
     },
     "metadata": {},
     "output_type": "display_data"
    },
    {
     "data": {
      "text/latex": [
       "$\\displaystyle 5.29 x_{0} + 3.11$"
      ],
      "text/plain": [
       "5.29*x_0 + 3.11"
      ]
     },
     "metadata": {},
     "output_type": "display_data"
    },
    {
     "name": "stdout",
     "output_type": "stream",
     "text": [
      "System :\n"
     ]
    },
    {
     "data": {
      "text/latex": [
       "$\\displaystyle 2.6 t + 42.5$"
      ],
      "text/plain": [
       "2.6*t + 42.5"
      ]
     },
     "metadata": {},
     "output_type": "display_data"
    },
    {
     "data": {
      "text/latex": [
       "$\\displaystyle 78.3 x_{0} x_{1} + 33.6 x_{0} + 0.545 + \\frac{8.39}{8.16 x_{0} + 88.2}$"
      ],
      "text/plain": [
       "78.3*x_0*x_1 + 33.6*x_0 + 0.545 + 8.39/(8.16*x_0 + 88.2)"
      ]
     },
     "metadata": {},
     "output_type": "display_data"
    },
    {
     "name": "stdout",
     "output_type": "stream",
     "text": [
      "System :\n"
     ]
    },
    {
     "data": {
      "text/latex": [
       "$\\displaystyle - 0.647 t - 4.84$"
      ],
      "text/plain": [
       "-0.647*t - 4.84"
      ]
     },
     "metadata": {},
     "output_type": "display_data"
    },
    {
     "data": {
      "text/latex": [
       "$\\displaystyle - 58.3 x_{0} - 53.8$"
      ],
      "text/plain": [
       "-58.3*x_0 - 53.8"
      ]
     },
     "metadata": {},
     "output_type": "display_data"
    },
    {
     "name": "stdout",
     "output_type": "stream",
     "text": [
      "System :\n"
     ]
    },
    {
     "data": {
      "text/latex": [
       "$\\displaystyle - 0.769 x_{0} - 6.77 x_{1} + 1.67$"
      ],
      "text/plain": [
       "-0.769*x_0 - 6.77*x_1 + 1.67"
      ]
     },
     "metadata": {},
     "output_type": "display_data"
    },
    {
     "data": {
      "text/latex": [
       "$\\displaystyle - 5.58 t + 0.378 x_{0}^{2} - 0.062 x_{0} + 53.654 x_{1} - 0.589$"
      ],
      "text/plain": [
       "-5.58*t + 0.378*x_0**2 - 0.062*x_0 + 53.654*x_1 - 0.589"
      ]
     },
     "metadata": {},
     "output_type": "display_data"
    },
    {
     "name": "stdout",
     "output_type": "stream",
     "text": [
      "System :\n"
     ]
    },
    {
     "data": {
      "text/latex": [
       "$\\displaystyle 43.5 x_{1} - 0.03 - \\frac{3.7 \\left(- 6.05 x_{0} - 3.2 x_{1}\\right)}{1.29 - 1.49 x_{0}}$"
      ],
      "text/plain": [
       "43.5*x_1 - 0.03 - 3.7*(-6.05*x_0 - 3.2*x_1)/(1.29 - 1.49*x_0)"
      ]
     },
     "metadata": {},
     "output_type": "display_data"
    },
    {
     "data": {
      "text/latex": [
       "$\\displaystyle x_{0} x_{1}^{2} \\cos{\\left(0.594 x_{1} - 4.81 \\right)} + 86.1$"
      ],
      "text/plain": [
       "x_0*x_1**2*cos(0.594*x_1 - 4.81) + 86.1"
      ]
     },
     "metadata": {},
     "output_type": "display_data"
    },
    {
     "name": "stdout",
     "output_type": "stream",
     "text": [
      "System :\n"
     ]
    },
    {
     "data": {
      "text/latex": [
       "$\\displaystyle - 3.05 t - 1.3 x_{0} + 1.22$"
      ],
      "text/plain": [
       "-3.05*t - 1.3*x_0 + 1.22"
      ]
     },
     "metadata": {},
     "output_type": "display_data"
    },
    {
     "data": {
      "text/latex": [
       "$\\displaystyle - 9.68 x_{0} - 7.84$"
      ],
      "text/plain": [
       "-9.68*x_0 - 7.84"
      ]
     },
     "metadata": {},
     "output_type": "display_data"
    },
    {
     "name": "stdout",
     "output_type": "stream",
     "text": [
      "System :\n"
     ]
    },
    {
     "data": {
      "text/latex": [
       "$\\displaystyle x_{0} \\left(6.4 x_{0} + 0.59 x_{1} \\sin{\\left(63.1 t + 6.29 \\right)}\\right) - 3.87$"
      ],
      "text/plain": [
       "x_0*(6.4*x_0 + 0.59*x_1*sin(63.1*t + 6.29)) - 3.87"
      ]
     },
     "metadata": {},
     "output_type": "display_data"
    },
    {
     "data": {
      "text/latex": [
       "$\\displaystyle t x_{0} x_{1} \\left(3.808 x_{1} + \\frac{45.3}{0.943 t + 4.53}\\right) + 0.674$"
      ],
      "text/plain": [
       "t*x_0*x_1*(3.808*x_1 + 45.3/(0.943*t + 4.53)) + 0.674"
      ]
     },
     "metadata": {},
     "output_type": "display_data"
    },
    {
     "name": "stdout",
     "output_type": "stream",
     "text": [
      "System :\n"
     ]
    },
    {
     "data": {
      "text/latex": [
       "$\\displaystyle 2.02 t \\cos{\\left(8.01 x_{0} + 83.9 \\right)} + 12.0 t - 7.01 x_{1} - 0.228$"
      ],
      "text/plain": [
       "2.02*t*cos(8.01*x_0 + 83.9) + 12.0*t - 7.01*x_1 - 0.228"
      ]
     },
     "metadata": {},
     "output_type": "display_data"
    },
    {
     "data": {
      "text/latex": [
       "$\\displaystyle - 0.69 x_{0} - 7.46 x_{1} + 7.8$"
      ],
      "text/plain": [
       "-0.69*x_0 - 7.46*x_1 + 7.8"
      ]
     },
     "metadata": {},
     "output_type": "display_data"
    },
    {
     "name": "stdout",
     "output_type": "stream",
     "text": [
      "System :\n"
     ]
    },
    {
     "data": {
      "text/latex": [
       "$\\displaystyle 0.593 x_{0} + 2.56 - \\frac{8.3}{- 2.06 x_{1} - 0.324}$"
      ],
      "text/plain": [
       "0.593*x_0 + 2.56 - 8.3/(-2.06*x_1 - 0.324)"
      ]
     },
     "metadata": {},
     "output_type": "display_data"
    },
    {
     "data": {
      "text/latex": [
       "$\\displaystyle 2.14 x_{0} - 70.518 x_{1} - 0.571$"
      ],
      "text/plain": [
       "2.14*x_0 - 70.518*x_1 - 0.571"
      ]
     },
     "metadata": {},
     "output_type": "display_data"
    },
    {
     "name": "stdout",
     "output_type": "stream",
     "text": [
      "System :\n"
     ]
    },
    {
     "data": {
      "text/latex": [
       "$\\displaystyle 2.26 t \\sin{\\left(60.6 x_{1} + 58.6 \\right)} + 93.6 t - 28.8 x_{0} - 0.41$"
      ],
      "text/plain": [
       "2.26*t*sin(60.6*x_1 + 58.6) + 93.6*t - 28.8*x_0 - 0.41"
      ]
     },
     "metadata": {},
     "output_type": "display_data"
    },
    {
     "data": {
      "text/latex": [
       "$\\displaystyle - 0.743 t \\left(- 0.372 x_{1} + \\frac{0.603}{31.4 t + 2.2}\\right) - 84.9 x_{0} + 19.6$"
      ],
      "text/plain": [
       "-0.743*t*(-0.372*x_1 + 0.603/(31.4*t + 2.2)) - 84.9*x_0 + 19.6"
      ]
     },
     "metadata": {},
     "output_type": "display_data"
    }
   ],
   "source": [
    "parser = argparse.ArgumentParser(description=\"Function prediction\", add_help=False)\n",
    "FunctionEnvironment.register_args(parser)    \n",
    "args = parser.parse_args(args=[])\n",
    "args.debug = True\n",
    "args.max_dimension = 3\n",
    "    \n",
    "env = FunctionEnvironment(args)\n",
    "\n",
    "env.rng = np.random.RandomState()\n",
    "#env.gen_expr(train=False)\n",
    "\n",
    "for i in range(10):\n",
    "    tree, dimension, nb_unary_ops, nb_binary_ops = env.generator.generate_multi_dimensional_tree(rng=env.rng, dimension=2)\n",
    "    tree_sympy = env.simplifier.tree_to_sympy_expr(tree, round=True)\n",
    "    print('System :')\n",
    "    for expr in tree_sympy:\n",
    "        display(expr)"
   ]
  },
  {
   "cell_type": "code",
   "execution_count": 5,
   "metadata": {},
   "outputs": [
    {
     "name": "stdout",
     "output_type": "stream",
     "text": [
      "System :\n"
     ]
    },
    {
     "data": {
      "text/latex": [
       "$\\displaystyle - 4.815 x_{0} - 2.66 x_{1} + 42.9 x_{2} - 46.2 \\sin{\\left(4.28 x_{0} - 5.33 x_{2} \\right)} - 4.18$"
      ],
      "text/plain": [
       "-4.815*x_0 - 2.66*x_1 + 42.9*x_2 - 46.2*sin(4.28*x_0 - 5.33*x_2) - 4.18"
      ]
     },
     "metadata": {},
     "output_type": "display_data"
    },
    {
     "data": {
      "text/latex": [
       "$\\displaystyle - 0.136 t + 6.05 x_{0} + 0.298 x_{1} - 84.7 x_{2} - 30.0$"
      ],
      "text/plain": [
       "-0.136*t + 6.05*x_0 + 0.298*x_1 - 84.7*x_2 - 30.0"
      ]
     },
     "metadata": {},
     "output_type": "display_data"
    },
    {
     "data": {
      "text/latex": [
       "$\\displaystyle x_{1} \\left(- 8.3 t - 81.1 x_{0}\\right) - 80.2$"
      ],
      "text/plain": [
       "x_1*(-8.3*t - 81.1*x_0) - 80.2"
      ]
     },
     "metadata": {},
     "output_type": "display_data"
    },
    {
     "data": {
      "image/png": "[encoded data removed]",
      "text/plain": [
       "<Figure size 432x288 with 1 Axes>"
      ]
     },
     "metadata": {
      "needs_background": "light"
     },
     "output_type": "display_data"
    }
   ],
   "source": [
    "from scipy.integrate import odeint\n",
    "tree, dimension, nb_unary_ops, nb_binary_ops = env.generator.generate_multi_dimensional_tree(rng=env.rng, dimension=3)\n",
    "tree_sympy = env.simplifier.tree_to_sympy_expr(tree, round=True)\n",
    "print('System :')\n",
    "for expr in tree_sympy:\n",
    "    display(expr)\n",
    "y0 = np.random.randn(dimension)\n",
    "t = np.linspace(1,2,100)\n",
    "def func(y,t):\n",
    "    return tree.val([y],t)[0]\n",
    "while True:\n",
    "    import warnings\n",
    "    with warnings.catch_warnings(record=True) as caught_warnings:\n",
    "        sol = odeint(func, y0, t)\n",
    "    if caught_warnings:\n",
    "        print('hi')\n",
    "        print('Warning: ', caught_warnings[0].message)\n",
    "        continue\n",
    "    break\n",
    "\n",
    "for dim in range(dimension):\n",
    "    plt.plot(t,sol[:,dim])\n"
   ]
  },
  {
   "cell_type": "code",
   "execution_count": null,
   "metadata": {},
   "outputs": [
    {
     "name": "stdout",
     "output_type": "stream",
     "text": [
      "System :\n"
     ]
    },
    {
     "data": {
      "text/latex": [
       "$\\displaystyle x_{1} \\left(- 0.179 t - 58.37 x_{0} + 0.407 x_{1} - 7.31 \\sin{\\left(91.0 x_{0} + 57.2 \\right)}\\right) + 3.95$"
      ],
      "text/plain": [
       "x_1*(-0.179*t - 58.37*x_0 + 0.407*x_1 - 7.31*sin(91.0*x_0 + 57.2)) + 3.95"
      ]
     },
     "metadata": {},
     "output_type": "display_data"
    },
    {
     "data": {
      "text/latex": [
       "$\\displaystyle 14.8 t + 0.573 x_{0} \\cdot \\left(0.543 x_{0} + 28.0 x_{1} - \\frac{0.933 x_{1}}{0.482 x_{1} - 8.42}\\right) + 0.7$"
      ],
      "text/plain": [
       "14.8*t + 0.573*x_0*(0.543*x_0 + 28.0*x_1 - 0.933*x_1/(0.482*x_1 - 8.42)) + 0.7"
      ]
     },
     "metadata": {},
     "output_type": "display_data"
    },
    {
     "data": {
      "image/png": "[encoded data removed]",
      "text/plain": [
       "<Figure size 640x480 with 1 Axes>"
      ]
     },
     "metadata": {},
     "output_type": "display_data"
    }
   ],
   "source": [
    "from scipy.integrate import odeint, solve_ivp\n",
    "tree, dimension, nb_unary_ops, nb_binary_ops = env.generator.generate_multi_dimensional_tree(rng=env.rng, dimension=2)\n",
    "tree_sympy = env.simplifier.tree_to_sympy_expr(tree, round=True)\n",
    "print('System :')\n",
    "for expr in tree_sympy:\n",
    "    display(expr)\n",
    "y0 = np.random.randn(dimension)\n",
    "t = (0,1)\n",
    "def func(t,y):\n",
    "    return tree.val([y],t)[0]\n",
    "while True:\n",
    "    import warnings\n",
    "    with warnings.catch_warnings(record=True) as caught_warnings:\n",
    "        #sol = odeint(func, y0, t)\n",
    "        sol = solve_ivp(func, t, y0)\n",
    "    if caught_warnings:\n",
    "        print('hi')\n",
    "        print('Warning: ', caught_warnings[0].message)\n",
    "        continue\n",
    "    break\n",
    "\n",
    "t = sol.t\n",
    "sol = sol.y.T\n",
    "for dim in range(dimension):\n",
    "    plt.plot(t,sol[:,dim])\n"
   ]
  },
  {
   "cell_type": "code",
   "execution_count": 2,
   "metadata": {},
   "outputs": [
    {
     "name": "stdout",
     "output_type": "stream",
     "text": [
      "./experiments/first/\n",
      "1 runs found\n",
      "./experiments/first/exp_optimizer_adam_cosine,period_mult=1.5,lr_shrink=0.5\n",
      "0 fails\n"
     ]
    }
   ],
   "source": [
    "runs = []\n",
    "logs = []\n",
    "global_path = './experiments/'\n",
    "\n",
    "paths = [\n",
    "    #'dropout'\n",
    "    #'int_base'\n",
    "    #'precision'\n",
    "    #\"curriculum\"\n",
    "    \"first\"\n",
    "       ]\n",
    "\n",
    "\n",
    "NaN = np.nan\n",
    "Infinity = np.nan\n",
    "\n",
    "for path in paths:\n",
    "    path = os.path.join(global_path, path)\n",
    "    path = path.rstrip('/') + '/'\n",
    "    print(path)\n",
    "\n",
    "    dirnames = glob.glob(path+'*')\n",
    "    dirnames = [p for p in dirnames if (os.path.isdir(p) and not p.endswith('__'))]\n",
    "    print('{} runs found'.format(len(dirnames)))\n",
    "    fails = 0\n",
    "    for dirname in dirnames:\n",
    "        if dirname.endswith('src'): continue\n",
    "        if len(dirnames)<1000: print(dirname)\n",
    "        try : \n",
    "            run = {}\n",
    "            args = pickle.load(open(dirname+'/params.pkl', 'rb'))\n",
    "            run['args'] = args\n",
    "            run['logs'] = []\n",
    "            run['num_params'] = []\n",
    "            logfile = dirname+'/train.log'\n",
    "            f = open(logfile, \"r\")\n",
    "            for line in f.readlines():\n",
    "                if '__log__' in line:\n",
    "                    log = eval(line[line.find('{'):].rstrip('\\n'))\n",
    "                    run['logs'].append(log)\n",
    "                    #if not run['logs']: run['logs'].append(log)\n",
    "                    #else: \n",
    "                    #    if log['valid1_recurrence_beam_acc'] != run['logs'][-1]['valid1_recurrence_beam_acc']: run['logs'].append(log)\n",
    "            f.close()\n",
    "            args.output_dir = Path(dirname)\n",
    "            runs.append(run)\n",
    "        except Exception as e: \n",
    "            print(e)\n",
    "            print('failed !'.format(dirname))\n",
    "            fails += 1\n",
    "    print('{} fails'.format(fails))\n",
    "    \n",
    "params = defaultdict(list)\n",
    "for run in runs:\n",
    "    for k,v in vars(run['args']).items():\n",
    "        params[k].append(v)\n",
    "for k in params:\n",
    "    try: params[k] = sorted(list(set(params[k])))\n",
    "    except: pass"
   ]
  },
  {
   "cell_type": "code",
   "execution_count": 5,
   "metadata": {},
   "outputs": [
    {
     "name": "stderr",
     "output_type": "stream",
     "text": [
      "Reloading checkpoint from ./experiments/first/exp_optimizer_adam_cosine,period_mult=1.5,lr_shrink=0.5/checkpoint.pth ...\n",
      "Reloading checkpoint optimizer ...\n",
      "Checkpoint reloaded. Resuming at epoch 1 / iteration 1000 ...\n"
     ]
    }
   ],
   "source": [
    "run = runs[0]\n",
    "params = run['args']\n",
    "params.cpu = True\n",
    "params.eval_size = 30\n",
    "params.batch_size_eval = 10\n",
    "params.beam_selection_metric = 'r2_zero'\n",
    "# params.max_unary_ops = 0\n",
    "# params.max_binary_ops_offset = 0\n",
    "params.beam_type = 'sampling'\n",
    "params.ode_integrator = 'odeint'\n",
    "params.dump_path = './experiments/first/exp_optimizer_adam_cosine,period_mult=1.5,lr_shrink=0.5'\n",
    "params.num_workers = 0\n",
    "env = build_env(params)\n",
    "modules = build_modules(env, params)\n",
    "trainer = Trainer(modules, env, params)\n",
    "evaluator = Evaluator(trainer)"
   ]
  },
  {
   "cell_type": "code",
   "execution_count": 6,
   "metadata": {},
   "outputs": [
    {
     "name": "stdout",
     "output_type": "stream",
     "text": [
      "The autoreload extension is already loaded. To reload it, use:\n",
      "  %reload_ext autoreload\n"
     ]
    },
    {
     "name": "stderr",
     "output_type": "stream",
     "text": []
    }
   ],
   "source": [
    "%load_ext autoreload\n",
    "%autoreload 2\n",
    "\n",
    "env.rng = np.random.RandomState(6)\n",
    "env.rng = np.random.RandomState(3)\n",
    "data_types = [\"valid1\"]\n",
    "evaluator.set_env_copies(data_types)\n",
    "scores = evaluator.evaluate_in_domain(\n",
    "    \"valid1\",\n",
    "    \"functions\",\n",
    "    save=params.save_results,\n",
    "    ablation_to_keep=params.ablation_to_keep,\n",
    ")\n",
    "print(\"__log__:%s\" % json.dumps(scores))\n"
   ]
  },
  {
   "cell_type": "code",
   "execution_count": 8,
   "metadata": {},
   "outputs": [
    {
     "name": "stderr",
     "output_type": "stream",
     "text": [
      "  0%|          | 0/10000 [00:00<?, ?it/s]"
     ]
    },
    {
     "name": "stdout",
     "output_type": "stream",
     "text": [
      " lsoda--  warning..internal t (=r1) and h (=r2) are\u0000\u0000\n",
      "       such that in the machine, t + h = t on the next step  \n",
      "       (h = step size). solver will continue anyway\u0000\u0000\n",
      "      in above,  r1 =  0.1892613462739D-02   r2 =  0.4479347714478D-19\n",
      " lsoda--  warning..internal t (=r1) and h (=r2) are\u0000\u0000\n",
      "       such that in the machine, t + h = t on the next step  \n",
      "       (h = step size). solver will continue anyway\u0000\u0000\n",
      "      in above,  r1 =  0.1892613462739D-02   r2 =  0.4479347714478D-19\n",
      " lsoda--  warning..internal t (=r1) and h (=r2) are\u0000\u0000\n",
      "       such that in the machine, t + h = t on the next step  \n",
      "       (h = step size). solver will continue anyway\u0000\u0000\n",
      "      in above,  r1 =  0.1892613462739D-02   r2 =  0.4479347714478D-19\n",
      " lsoda--  warning..internal t (=r1) and h (=r2) are\u0000\u0000\n",
      "       such that in the machine, t + h = t on the next step  \n",
      "       (h = step size). solver will continue anyway\u0000\u0000\n",
      "      in above,  r1 =  0.1892613462739D-02   r2 =  0.6990593524222D-21\n",
      " lsoda--  warning..internal t (=r1) and h (=r2) are\u0000\u0000\n",
      "       such that in the machine, t + h = t on the next step  \n",
      "       (h = step size). solver will continue anyway\u0000\u0000\n",
      "      in above,  r1 =  0.1892613462739D-02   r2 =  0.6990593524222D-21\n",
      " lsoda--  warning..internal t (=r1) and h (=r2) are\u0000\u0000\n",
      "       such that in the machine, t + h = t on the next step  \n",
      "       (h = step size). solver will continue anyway\u0000\u0000\n",
      "      in above,  r1 =  0.1892613462739D-02   r2 =  0.6990593524222D-21\n",
      " lsoda--  warning..internal t (=r1) and h (=r2) are\u0000\u0000\n",
      "       such that in the machine, t + h = t on the next step  \n",
      "       (h = step size). solver will continue anyway\u0000\u0000\n",
      "      in above,  r1 =  0.1892613462739D-02   r2 =  0.6990593524222D-21\n",
      " lsoda--  warning..internal t (=r1) and h (=r2) are\u0000\u0000\n",
      "       such that in the machine, t + h = t on the next step  \n",
      "       (h = step size). solver will continue anyway\u0000\u0000\n",
      "      in above,  r1 =  0.1892613462739D-02   r2 =  0.6990593524222D-21\n",
      " lsoda--  warning..internal t (=r1) and h (=r2) are\u0000\u0000\n",
      "       such that in the machine, t + h = t on the next step  \n",
      "       (h = step size). solver will continue anyway\u0000\u0000\n",
      "      in above,  r1 =  0.1892613462739D-02   r2 =  0.6990593524222D-21\n",
      " lsoda--  warning..internal t (=r1) and h (=r2) are\u0000\u0000\n",
      "       such that in the machine, t + h = t on the next step  \n",
      "       (h = step size). solver will continue anyway\u0000\u0000\n",
      "      in above,  r1 =  0.1892613462739D-02   r2 =  0.1398118704844D-20\n",
      " lsoda--  above warning has been issued i1 times.  \u0000\u0000\n",
      "       it will not be issued again for this problem\u0000\u0000\n",
      "      in above message,  i1 =        10\n",
      " lsoda--  warning..internal t (=r1) and h (=r2) are\u0000\u0000\n",
      "       such that in the machine, t + h = t on the next step  \n",
      "       (h = step size). solver will continue anyway\u0000\u0000\n",
      "      in above,  r1 =  0.2891785642205D-01   r2 =  0.1150609166192D-17\n",
      " lsoda--  warning..internal t (=r1) and h (=r2) are\u0000\u0000\n",
      "       such that in the machine, t + h = t on the next step  \n",
      "       (h = step size). solver will continue anyway\u0000\u0000\n",
      "      in above,  r1 =  0.2891785642205D-01   r2 =  0.1150609166192D-17\n",
      " lsoda--  warning..internal t (=r1) and h (=r2) are\u0000\u0000\n",
      "       such that in the machine, t + h = t on the next step  \n",
      "       (h = step size). solver will continue anyway\u0000\u0000\n",
      "      in above,  r1 =  0.2891785642205D-01   r2 =  0.1150609166192D-17\n",
      " lsoda--  warning..internal t (=r1) and h (=r2) are\u0000\u0000\n",
      "       such that in the machine, t + h = t on the next step  \n",
      "       (h = step size). solver will continue anyway\u0000\u0000\n",
      "      in above,  r1 =  0.2891785642205D-01   r2 =  0.8779837118754D-18\n",
      " lsoda--  warning..internal t (=r1) and h (=r2) are\u0000\u0000\n",
      "       such that in the machine, t + h = t on the next step  \n",
      "       (h = step size). solver will continue anyway\u0000\u0000\n",
      "      in above,  r1 =  0.2891785642205D-01   r2 =  0.8779837118754D-18\n",
      " lsoda--  warning..internal t (=r1) and h (=r2) are\u0000\u0000\n",
      "       such that in the machine, t + h = t on the next step  \n",
      "       (h = step size). solver will continue anyway\u0000\u0000\n",
      "      in above,  r1 =  0.2891785642205D-01   r2 =  0.1270110807259D-17\n",
      " lsoda--  warning..internal t (=r1) and h (=r2) are\u0000\u0000\n",
      "       such that in the machine, t + h = t on the next step  \n",
      "       (h = step size). solver will continue anyway\u0000\u0000\n",
      "      in above,  r1 =  0.2891785642205D-01   r2 =  0.1270110807259D-17\n",
      " lsoda--  warning..internal t (=r1) and h (=r2) are\u0000\u0000\n",
      "       such that in the machine, t + h = t on the next step  \n",
      "       (h = step size). solver will continue anyway\u0000\u0000\n",
      "      in above,  r1 =  0.2891785642205D-01   r2 =  0.1270110807259D-17\n",
      " lsoda--  warning..internal t (=r1) and h (=r2) are\u0000\u0000\n",
      "       such that in the machine, t + h = t on the next step  \n",
      "       (h = step size). solver will continue anyway\u0000\u0000\n",
      "      in above,  r1 =  0.2891785642205D-01   r2 =  0.1636088377556D-17\n",
      " lsoda--  warning..internal t (=r1) and h (=r2) are\u0000\u0000\n",
      "       such that in the machine, t + h = t on the next step  \n",
      "       (h = step size). solver will continue anyway\u0000\u0000\n",
      "      in above,  r1 =  0.2891785642205D-01   r2 =  0.1636088377556D-17\n",
      " lsoda--  above warning has been issued i1 times.  \u0000\u0000\n",
      "       it will not be issued again for this problem\u0000\u0000\n",
      "      in above message,  i1 =        10\n",
      " lsoda--  at t (=r1), too much accuracy requested  \u0000\u0000\n",
      "       for precision of machine..  see tolsf (=r2) \u0000\u0000\n",
      "      in above,  r1 =  0.6133758153340D-06   r2 =                  NaN\n",
      " lsoda--  warning..internal t (=r1) and h (=r2) are\u0000\u0000\n",
      "       such that in the machine, t + h = t on the next step  \n",
      "       (h = step size). solver will continue anyway\u0000\u0000\n",
      "      in above,  r1 =  0.1578979174196D-01   r2 =  0.1577311910496D-17\n",
      " lsoda--  warning..internal t (=r1) and h (=r2) are\u0000\u0000\n",
      "       such that in the machine, t + h = t on the next step  \n",
      "       (h = step size). solver will continue anyway\u0000\u0000\n",
      "      in above,  r1 =  0.1578979174196D-01   r2 =  0.1577311910496D-17\n",
      " lsoda--  warning..internal t (=r1) and h (=r2) are\u0000\u0000\n",
      "       such that in the machine, t + h = t on the next step  \n",
      "       (h = step size). solver will continue anyway\u0000\u0000\n",
      "      in above,  r1 =  0.1578979174196D-01   r2 =  0.9858199440601D-19\n",
      " lsoda--  warning..internal t (=r1) and h (=r2) are\u0000\u0000\n",
      "       such that in the machine, t + h = t on the next step  \n",
      "       (h = step size). solver will continue anyway\u0000\u0000\n",
      "      in above,  r1 =  0.1578979174196D-01   r2 =  0.1971639888120D-18\n",
      " lsoda--  warning..internal t (=r1) and h (=r2) are\u0000\u0000\n",
      "       such that in the machine, t + h = t on the next step  \n",
      "       (h = step size). solver will continue anyway\u0000\u0000\n",
      "      in above,  r1 =  0.1578979174196D-01   r2 =  0.4929099720301D-19\n",
      " lsoda--  warning..internal t (=r1) and h (=r2) are\u0000\u0000\n",
      "       such that in the machine, t + h = t on the next step  \n",
      "       (h = step size). solver will continue anyway\u0000\u0000\n",
      "      in above,  r1 =  0.1578979174196D-01   r2 =  0.4929099720301D-19\n",
      " lsoda--  warning..internal t (=r1) and h (=r2) are\u0000\u0000\n",
      "       such that in the machine, t + h = t on the next step  \n",
      "       (h = step size). solver will continue anyway\u0000\u0000\n",
      "      in above,  r1 =  0.1578979174196D-01   r2 =  0.9858199440601D-19\n",
      " lsoda--  warning..internal t (=r1) and h (=r2) are\u0000\u0000\n",
      "       such that in the machine, t + h = t on the next step  \n",
      "       (h = step size). solver will continue anyway\u0000\u0000\n",
      "      in above,  r1 =  0.1578979174196D-01   r2 =  0.9858199440601D-19\n",
      " lsoda--  warning..internal t (=r1) and h (=r2) are\u0000\u0000\n",
      "       such that in the machine, t + h = t on the next step  \n",
      "       (h = step size). solver will continue anyway\u0000\u0000\n",
      "      in above,  r1 =  0.1578979174196D-01   r2 =  0.9858199440601D-18\n",
      " lsoda--  warning..internal t (=r1) and h (=r2) are\u0000\u0000\n",
      "       such that in the machine, t + h = t on the next step  \n",
      "       (h = step size). solver will continue anyway\u0000\u0000\n",
      "      in above,  r1 =  0.1578979174196D-01   r2 =  0.9858199440601D-18\n",
      " lsoda--  above warning has been issued i1 times.  \u0000\u0000\n",
      "       it will not be issued again for this problem\u0000\u0000\n",
      "      in above message,  i1 =        10\n",
      "Finished forward in 84.1837227344513 secs\n"
     ]
    },
    {
     "ename": "TypeError",
     "evalue": "'int' object is not iterable",
     "output_type": "error",
     "traceback": [
      "\u001b[0;31m---------------------------------------------------------------------------\u001b[0m",
      "\u001b[0;31mTypeError\u001b[0m                                 Traceback (most recent call last)",
      "Cell \u001b[0;32mIn[8], line 11\u001b[0m\n\u001b[1;32m      8\u001b[0m evaluator\u001b[39m.\u001b[39mset_env_copies(data_types)\n\u001b[1;32m     10\u001b[0m \u001b[39m# evaluation\u001b[39;00m\n\u001b[0;32m---> 11\u001b[0m scores \u001b[39m=\u001b[39m evaluator\u001b[39m.\u001b[39;49mevaluate_in_domain(\n\u001b[1;32m     12\u001b[0m \u001b[39m\"\u001b[39;49m\u001b[39mvalid1\u001b[39;49m\u001b[39m\"\u001b[39;49m,\n\u001b[1;32m     13\u001b[0m \u001b[39m\"\u001b[39;49m\u001b[39mfunctions\u001b[39;49m\u001b[39m\"\u001b[39;49m,\n\u001b[1;32m     14\u001b[0m logger\u001b[39m=\u001b[39;49mtrainer\u001b[39m.\u001b[39;49mlogger,\n\u001b[1;32m     15\u001b[0m save\u001b[39m=\u001b[39;49mparams\u001b[39m.\u001b[39;49msave_results,\n\u001b[1;32m     16\u001b[0m ablation_to_keep\u001b[39m=\u001b[39;49mparams\u001b[39m.\u001b[39;49mablation_to_keep,\n\u001b[1;32m     17\u001b[0m )\n\u001b[1;32m     18\u001b[0m logger\u001b[39m.\u001b[39minfo(\u001b[39m\"\u001b[39m\u001b[39m__log__:\u001b[39m\u001b[39m%s\u001b[39;00m\u001b[39m\"\u001b[39m \u001b[39m%\u001b[39m json\u001b[39m.\u001b[39mdumps(scores))\n",
      "File \u001b[0;32m~/odeformer/evaluate.py:200\u001b[0m, in \u001b[0;36mEvaluator.evaluate_in_domain\u001b[0;34m(self, data_type, task, verbose, ablation_to_keep, save, logger, save_file)\u001b[0m\n\u001b[1;32m    198\u001b[0m \u001b[39mfor\u001b[39;00m time, trajectory, info, tree, candidates \u001b[39min\u001b[39;00m \u001b[39mzip\u001b[39m(times, trajectories, infos, tree, all_candidates):\n\u001b[1;32m    199\u001b[0m     results \u001b[39m=\u001b[39m []\n\u001b[0;32m--> 200\u001b[0m     \u001b[39mfor\u001b[39;00m candidate \u001b[39min\u001b[39;00m candidates:\n\u001b[1;32m    201\u001b[0m         pred_trajectory \u001b[39m=\u001b[39m [dstr\u001b[39m.\u001b[39mpredict(time, y0\u001b[39m=\u001b[39mtrajectory[\u001b[39m0\u001b[39m], tree\u001b[39m=\u001b[39mcandidate)]\n\u001b[1;32m    202\u001b[0m         result \u001b[39m=\u001b[39m compute_metrics(\n\u001b[1;32m    203\u001b[0m         {\n\u001b[1;32m    204\u001b[0m             \u001b[39m\"\u001b[39m\u001b[39mtrue\u001b[39m\u001b[39m\"\u001b[39m: trajectory,\n\u001b[0;32m   (...)\u001b[0m\n\u001b[1;32m    208\u001b[0m         metrics\u001b[39m=\u001b[39mparams\u001b[39m.\u001b[39mvalidation_metrics,\n\u001b[1;32m    209\u001b[0m         )\n",
      "\u001b[0;31mTypeError\u001b[0m: 'int' object is not iterable"
     ]
    }
   ],
   "source": [
    "    # training\n",
    "    if params.reload_data != \"\":\n",
    "        data_types = [\n",
    "            \"valid{}\".format(i) for i in range(1, len(trainer.data_path[\"functions\"]))\n",
    "        ]\n",
    "    else:\n",
    "        data_types = [\"valid1\"]\n",
    "    evaluator.set_env_copies(data_types)\n",
    "\n",
    "    # evaluation\n",
    "scores = evaluator.evaluate_in_domain(\n",
    "    \"valid1\",\n",
    "    \"functions\",\n",
    "    logger=trainer.logger,\n",
    "    save=params.save_results,\n",
    "    ablation_to_keep=params.ablation_to_keep,\n",
    ")\n",
    "logger.info(\"__log__:%s\" % json.dumps(scores))"
   ]
  },
  {
   "cell_type": "code",
   "execution_count": null,
   "metadata": {},
   "outputs": [],
   "source": []
  }
 ],
 "metadata": {
  "kernelspec": {
   "display_name": "Python 3",
   "language": "python",
   "name": "python3"
  },
  "language_info": {
   "codemirror_mode": {
    "name": "ipython",
    "version": 3
   },
   "file_extension": ".py",
   "mimetype": "text/x-python",
   "name": "python",
   "nbconvert_exporter": "python",
   "pygments_lexer": "ipython3",
   "version": "3.9.7"
  }
 },
 "nbformat": 4,
 "nbformat_minor": 4
}
